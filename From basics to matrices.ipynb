{
 "cells": [
  {
   "cell_type": "markdown",
   "metadata": {},
   "source": [
    "# This is Sage!\n",
    "\n",
    "Sage is a python-based collection of libraries for doing math.  In this notebook we'll get familiar with some of the basics of Sage, and the tools used to construct and work with matrices.\n",
    "\n",
    "The cells below contain examples.  You are encouraged to modify them and test things out as you go through them."
   ]
  },
  {
   "cell_type": "code",
   "execution_count": null,
   "metadata": {},
   "outputs": [],
   "source": [
    "# First, the basics.  The comment character is #, and this is a comment.\n",
    "# Evaluate this cell by clicking the \"Run\" button, or pressing Shift+Enter on your keyboard.\n",
    "\n",
    "2+5"
   ]
  },
  {
   "cell_type": "markdown",
   "metadata": {},
   "source": [
    "The output of the last line in the cell will be displayed, as well as anything inside a print statement.  Notice here that some things are different than in Python.  In Python, \\*\\* does exponentiation, but in Sage, ^ does."
   ]
  },
  {
   "cell_type": "code",
   "execution_count": null,
   "metadata": {},
   "outputs": [],
   "source": [
    "print(2^3)\n",
    "print('hello')\n",
    "3*5\n",
    "print(8/9)\n",
    "print(8./9)"
   ]
  },
  {
   "cell_type": "markdown",
   "metadata": {},
   "source": [
    "The = sign does assignment:"
   ]
  },
  {
   "cell_type": "code",
   "execution_count": null,
   "metadata": {},
   "outputs": [],
   "source": [
    "i=1\n",
    "print(i)\n",
    "i=i+1\n",
    "print(i)"
   ]
  },
  {
   "cell_type": "markdown",
   "metadata": {},
   "source": [
    "## Functions and Variables \n",
    "To use a variable in a function, you first need to indicate that it is a variable."
   ]
  },
  {
   "cell_type": "code",
   "execution_count": null,
   "metadata": {},
   "outputs": [],
   "source": [
    "var('x')\n",
    "\n",
    "f(x) = x^2-5\n",
    "f(3)"
   ]
  },
  {
   "cell_type": "markdown",
   "metadata": {},
   "source": [
    "Alternatively, you can use 'def'"
   ]
  },
  {
   "cell_type": "code",
   "execution_count": null,
   "metadata": {},
   "outputs": [],
   "source": [
    "def add(num1, num2):\n",
    "    return num1+num2\n",
    "\n",
    "add(2,5)"
   ]
  },
  {
   "cell_type": "markdown",
   "metadata": {},
   "source": [
    "## Indented blocks and conditionals\n",
    "\n",
    "In Python, whitespace matters.  Blocks are indicated by indentation. Indented blocks begin after a \":\". Here's a conditional as an example:"
   ]
  },
  {
   "cell_type": "code",
   "execution_count": null,
   "metadata": {},
   "outputs": [],
   "source": [
    "if 3 > 7:\n",
    "    print('really?')\n",
    "else:\n",
    "    print('that\\'s better...')\n"
   ]
  },
  {
   "cell_type": "markdown",
   "metadata": {},
   "source": [
    "The operators you may find yourself using most often in conditionals are\n",
    "\n",
    "- \\> greater than\n",
    "- < less than\n",
    "- \\>= greater than or equal to\n",
    "- <= less than or equal to\n",
    "- == equal to\n",
    "- != not equal to\n",
    "\n",
    "## Loops\n",
    "\n",
    "Loops work the same way in Sage as in Python."
   ]
  },
  {
   "cell_type": "code",
   "execution_count": null,
   "metadata": {},
   "outputs": [],
   "source": [
    "for i in range(3,7):\n",
    "    print i\n",
    "    i = i+1\n",
    "    \n",
    "print('\\n')\n",
    " \n",
    "i = 1\n",
    "while i !=6:\n",
    "    print('i equals '+str(i))\n",
    "    i=i+1"
   ]
  },
  {
   "cell_type": "markdown",
   "metadata": {},
   "source": [
    "## Lists\n",
    "\n",
    "A key object type that we will be using is lists.  Lists are comma separated, and between a pair of '[ ]'.  They can contain any other object, including other lists.\n",
    "\n",
    "To access an item in a list, call it up by its index.  Lists are indexed from 0."
   ]
  },
  {
   "cell_type": "code",
   "execution_count": null,
   "metadata": {},
   "outputs": [],
   "source": [
    "L = [2,4,6,'end']\n",
    "print(L)\n",
    "print(L[0])\n",
    "print[L[3]]"
   ]
  },
  {
   "cell_type": "markdown",
   "metadata": {},
   "source": [
    "Lists are iterable."
   ]
  },
  {
   "cell_type": "code",
   "execution_count": null,
   "metadata": {},
   "outputs": [],
   "source": [
    "alph = ['a','b','c']\n",
    "for letter in alph:\n",
    "    print(letter)"
   ]
  },
  {
   "cell_type": "markdown",
   "metadata": {},
   "source": [
    "add something to a list using 'append()'"
   ]
  },
  {
   "cell_type": "code",
   "execution_count": null,
   "metadata": {},
   "outputs": [],
   "source": [
    "alph = ['a','b','c']\n",
    "print(alph)\n",
    "alph.append('d')\n",
    "print(alph)"
   ]
  },
  {
   "cell_type": "markdown",
   "metadata": {},
   "source": [
    "Use 'len' to get the length of a list"
   ]
  },
  {
   "cell_type": "code",
   "execution_count": null,
   "metadata": {},
   "outputs": [],
   "source": [
    "len(alph)"
   ]
  },
  {
   "cell_type": "markdown",
   "metadata": {},
   "source": [
    "## Matrices!\n",
    "\n",
    "Sage understands matrices as a column of row vectors.  Each row vector is a list, and the column is itself a list.  Outside of that, you tell sage to understand the whole thing as a matrix."
   ]
  },
  {
   "cell_type": "code",
   "execution_count": null,
   "metadata": {},
   "outputs": [],
   "source": [
    "M = matrix([[1,2,3],[4,5,6],[7,8,9]])\n",
    "M"
   ]
  },
  {
   "cell_type": "code",
   "execution_count": null,
   "metadata": {},
   "outputs": [],
   "source": [
    "print(M[0])\n",
    "print(M[1][0])"
   ]
  },
  {
   "cell_type": "markdown",
   "metadata": {},
   "source": [
    "Arithmetic with matrices works as it should."
   ]
  },
  {
   "cell_type": "code",
   "execution_count": null,
   "metadata": {},
   "outputs": [],
   "source": [
    "A = matrix([[1,1],[0,1]])\n",
    "B = matrix([[1,0],[1,1]])\n",
    "\n",
    "print(A+B)\n",
    "print('\\n')\n",
    "print(2.5*A)\n",
    "print('\\n')\n",
    "print(A*B)\n",
    "print('\\n')\n",
    "print(A^7)"
   ]
  },
  {
   "cell_type": "markdown",
   "metadata": {},
   "source": [
    "There are also lots of matrix specific functions"
   ]
  },
  {
   "cell_type": "code",
   "execution_count": null,
   "metadata": {},
   "outputs": [],
   "source": [
    "C = matrix([[1,2,3],[0,5,6],[0,0,9]])\n",
    "print(matrix.identity(5))\n",
    "print'\\n'\n",
    "print(C.transpose())\n",
    "print'\\n'\n",
    "print(C.determinant())"
   ]
  },
  {
   "cell_type": "markdown",
   "metadata": {},
   "source": [
    "## Echelon form\n",
    "Sage can put a matrix into reduced row echelon form, the only catch is you have to tell it that it's allowed to do division, by indicating that you are working over the rational numbers"
   ]
  },
  {
   "cell_type": "code",
   "execution_count": null,
   "metadata": {},
   "outputs": [],
   "source": [
    "# here is echelon form over the integers, with no division.\n",
    "AZ = matrix(ZZ,[[3,5,-1,2],[1,-1,1,-1],[2,0,3,-1]])\n",
    "AZ.echelon_form()"
   ]
  },
  {
   "cell_type": "code",
   "execution_count": null,
   "metadata": {},
   "outputs": [],
   "source": [
    "# here is reduced row echelon form over the rational numbers, where we get fractions.\n",
    "AQ = matrix(QQ,[[3,5,-1,2],[1,-1,1,-1],[2,0,3,-1]])\n",
    "AQ.echelon_form()"
   ]
  },
  {
   "cell_type": "code",
   "execution_count": null,
   "metadata": {},
   "outputs": [],
   "source": [
    "# here is reduced row echelon form over the real numbers, where we get decimals.\n",
    "AR = matrix(RR,[[3,5,-1,2],[1,-1,1,-1],[2,0,3,-1]])\n",
    "AR.echelon_form()"
   ]
  },
  {
   "cell_type": "markdown",
   "metadata": {},
   "source": [
    "# Exercises (related to sections 1.5 and 2.1)\n",
    "1. Write a function that takes in three numbers i, j, and n and returns the elementary nxn matrix that swaps rows i and j.\n",
    "2. Write a function that takes in three numbers i, c, and n and returns the elementary nxn matrix that scales row i by c.\n",
    "3. Write a function that takes in four numbers i, j, c, and n and returns the elementary nxn matrix that adds c times row i to row j.\n",
    "4. Write a function that takes in an nxn matrix and two numbers i and j, and returns the ij-minor of the matrix.\n",
    "5. Write a function that takes in an nxn matrix and returns the LU decomposition in the form of a list [L,U] if it has one, or prints an error message if it doesn't."
   ]
  },
  {
   "cell_type": "code",
   "execution_count": null,
   "metadata": {},
   "outputs": [],
   "source": []
  },
  {
   "cell_type": "code",
   "execution_count": null,
   "metadata": {},
   "outputs": [],
   "source": []
  },
  {
   "cell_type": "code",
   "execution_count": null,
   "metadata": {},
   "outputs": [],
   "source": []
  }
 ],
 "metadata": {
  "kernelspec": {
   "display_name": "SageMath 8.1",
   "language": "",
   "name": "sagemath"
  },
  "language_info": {
   "codemirror_mode": {
    "name": "ipython",
    "version": 2
   },
   "file_extension": ".py",
   "mimetype": "text/x-python",
   "name": "python",
   "nbconvert_exporter": "python",
   "pygments_lexer": "ipython2",
   "version": "2.7.17"
  }
 },
 "nbformat": 4,
 "nbformat_minor": 2
}
