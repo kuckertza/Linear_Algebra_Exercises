{
 "cells": [
  {
   "cell_type": "markdown",
   "metadata": {},
   "source": [
    "# Graphs and adjacency matrices\n",
    "\n",
    "A graph is a data structure that keeps track of the connections between objects.  These can be literal connections, like routes between cities or computers connected on a network.  They can also be representations of more abstract connections, like social networks.\n",
    "\n",
    "Later in this notebook we will be multiplying and taking powers of some large matrices, which is why it is a good subject to explore with a computer instead of by hand.  The cells below contain examples and exercises.  Modify them as you go through.\n",
    "\n",
    "Sage has a library of common graphs you can call on"
   ]
  },
  {
   "cell_type": "code",
   "execution_count": null,
   "metadata": {},
   "outputs": [],
   "source": [
    "g1 = graphs.CompleteGraph(4)\n",
    "g1.show()"
   ]
  },
  {
   "cell_type": "code",
   "execution_count": null,
   "metadata": {},
   "outputs": [],
   "source": [
    "g2 = graphs.CycleGraph(6)\n",
    "g2.show()"
   ]
  },
  {
   "cell_type": "code",
   "execution_count": null,
   "metadata": {},
   "outputs": [],
   "source": [
    "g3 = graphs.PetersenGraph()\n",
    "g3.show()"
   ]
  },
  {
   "cell_type": "markdown",
   "metadata": {},
   "source": [
    "The data of a graph consists of a set of vertices and a set of edges, describing the connections between those vertices.\n",
    "\n",
    "Remeber that in Python, things are indexed from 0.  This applies to the vertices of graphs."
   ]
  },
  {
   "cell_type": "code",
   "execution_count": null,
   "metadata": {},
   "outputs": [],
   "source": [
    "g2 = graphs.CycleGraph(6)\n",
    "print(g2.vertices())\n",
    "print(g2.edges())"
   ]
  },
  {
   "cell_type": "markdown",
   "metadata": {},
   "source": [
    "You can also make your own graphs by creating a dictionary of connections.  If you do this you can also name your vertices whatever you want."
   ]
  },
  {
   "cell_type": "code",
   "execution_count": null,
   "metadata": {},
   "outputs": [],
   "source": [
    "d = {'A': ['B','C','E'], 'B': ['D'], 'C': ['E'] }\n",
    "g = Graph(d)\n",
    "g.show()"
   ]
  },
  {
   "cell_type": "markdown",
   "metadata": {},
   "source": [
    "The data of a graph on n vertices can be encoded in an nxn matrix, where the ij entry is 1 if the vertices i and j have an edge between them, and 0 if they do not.  Sage knows about this."
   ]
  },
  {
   "cell_type": "code",
   "execution_count": null,
   "metadata": {},
   "outputs": [],
   "source": [
    "g4 = graphs.HouseGraph()\n",
    "g4.show()\n",
    "M = g4.adjacency_matrix()\n",
    "print(M)\n",
    "M == M.transpose()"
   ]
  },
  {
   "cell_type": "markdown",
   "metadata": {},
   "source": [
    "### Exercises\n",
    "1. Generate the adjacency matrices of some standard graphs.  Some things to try include graphs.CycleGraph(n), graphs.CompleteGraph(n), graphs.CompleteBipartiteGraph(m,n) where m and n are integers of your choice.\n",
    "2. For each adjacency matrix you found, use == to confirm that it is equal to its transpose.\n",
    "3. Explain why the adjacency matrix of a graph is always symmetric.\n",
    "\n",
    "### More with adjacency matrices\n",
    "We can use an ajacency matrix to construct a graph, provided the matrix contains only zeros and ones, and is symmetric."
   ]
  },
  {
   "cell_type": "code",
   "execution_count": null,
   "metadata": {},
   "outputs": [],
   "source": [
    "M = matrix([[0,0,1,1],[0,0,0,1],[1,0,0,0],[1,1,0,0]])\n",
    "g = Graph(M)\n",
    "g.show()"
   ]
  },
  {
   "cell_type": "markdown",
   "metadata": {},
   "source": [
    "### Exercises\n",
    "4. What happens if you construct a graph from a symmetric matrix of 0's and 1's that has a diagonal entry that is 1?  Explain.\n",
    "5. What happens if you try to construct a graph from a non-symmetric square matrix of 0's and 1's?  What do you wish happened instead?"
   ]
  },
  {
   "cell_type": "code",
   "execution_count": null,
   "metadata": {},
   "outputs": [],
   "source": []
  },
  {
   "cell_type": "markdown",
   "metadata": {},
   "source": [
    "### Directed graphs\n",
    "A directed graph is a graph where the edges can be arrows.  The data of a directed graph can be encoded in an adjacency matrix where the ij entry is 1 if there is an arrow from vertex i to vertex j.  "
   ]
  },
  {
   "cell_type": "code",
   "execution_count": null,
   "metadata": {},
   "outputs": [],
   "source": [
    "M = matrix([[0,0,1,1],[0,0,0,1],[1,0,0,0],[0,0,1,0]])\n",
    "g = DiGraph(M)\n",
    "g.show()"
   ]
  },
  {
   "cell_type": "markdown",
   "metadata": {},
   "source": [
    "### Graphs and matrix multiplication\n",
    "The powers of a graphs adjacency matrix reveals interesting information about it. Below is the house graph, its adjacency matrix, and its square and cube."
   ]
  },
  {
   "cell_type": "code",
   "execution_count": null,
   "metadata": {},
   "outputs": [],
   "source": [
    "g3 = graphs.HouseGraph()\n",
    "g3.show()\n",
    "M = g3.adjacency_matrix()\n",
    "print(M)\n",
    "print '\\n'\n",
    "print(M^2)\n",
    "print '\\n'\n",
    "print(M^3)"
   ]
  },
  {
   "cell_type": "markdown",
   "metadata": {},
   "source": [
    "### Exercises\n",
    "6. What do the numbers in the matrix M^2 correspond to in the graph?  What about M^3?  Test out your theory on another graph by taking powers of its adjacency matrix.\n",
    "7. Test out your theory on graphs.CycleGraph(6) and graphs.CompleteBipartiteGraph(3,3).  What do you notice?  Can you explain the pattern?\n",
    "8. Does the theory you came up with in question 6 work for directed graphs too?\n",
    "\n",
    "Try to answer these questions on your own before looking up the answer.  The answer is on page 57 of your textbook."
   ]
  },
  {
   "cell_type": "code",
   "execution_count": null,
   "metadata": {},
   "outputs": [],
   "source": []
  }
 ],
 "metadata": {
  "kernelspec": {
   "display_name": "SageMath 8.1",
   "language": "",
   "name": "sagemath"
  },
  "language_info": {
   "codemirror_mode": {
    "name": "ipython",
    "version": 2
   },
   "file_extension": ".py",
   "mimetype": "text/x-python",
   "name": "python",
   "nbconvert_exporter": "python",
   "pygments_lexer": "ipython2",
   "version": "2.7.17"
  }
 },
 "nbformat": 4,
 "nbformat_minor": 2
}
