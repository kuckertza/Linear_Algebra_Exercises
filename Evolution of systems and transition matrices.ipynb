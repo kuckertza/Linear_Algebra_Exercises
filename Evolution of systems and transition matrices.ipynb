{
 "cells": [
  {
   "cell_type": "markdown",
   "metadata": {},
   "source": [
    "# Modeling evolution of a system over time with matrices\n",
    "\n",
    "### Hungry cats\n",
    "\n",
    "Let's say you work in a cat shelter, with a population of 30 cats.  We want to know if we're doing a good job keeping them fed, and so we make some observations.\n",
    "\n",
    "We take note each hour of which ones are hungry and which are not, and we notice that it's always true that at the end of an hour 80% of the ones that were hungry are no longer hungry.  40% of the ones that were not hungry have become hungry during the hour.  \n",
    "\n",
    "#### Question: \n",
    "If at this very moment, 5 are hungry and 25 are not, how many cats will be hungry after an hour? \n",
    "#### Answer: \n",
    "SIf we have $H$ hungry cats and $N$ not hungry cats, then the number of hungry cats after an hour is \n",
    "$$.2 H + .4 N$$\n",
    "and the number of not hungry cats after an hour is \n",
    "$$.8 H + .6 N$$\n",
    "This looks like we did matrix multiplication:\n",
    "$$\\begin{pmatrix}.2 & .4\\\\ .8 & .6\\end{pmatrix}\\cdot \\begin{pmatrix}{H\\\\N}\\end{pmatrix}$$\n",
    "\n",
    "### Explore further\n",
    "Make the matrix $A$ from the cat problem, and explore this system for yourself.\n",
    "1. How many cats are humgry and not hungry after 2 hours?  3 hours?\n",
    "2. Apply some high powers of $A$ to the vector $\\begin{pmatrix}{5\\\\25}\\end{pmatrix}$.  What do you notice?  What does it mean?\n",
    "3. Try the same experiment with different initial values of $H$ and $N$ (but still $H+N=30$).  What happens?\n",
    "4. Try the same experiment with a different total number of cats. What happens?"
   ]
  },
  {
   "cell_type": "code",
   "execution_count": null,
   "metadata": {},
   "outputs": [],
   "source": []
  },
  {
   "cell_type": "code",
   "execution_count": null,
   "metadata": {},
   "outputs": [],
   "source": []
  },
  {
   "cell_type": "code",
   "execution_count": null,
   "metadata": {},
   "outputs": [],
   "source": []
  },
  {
   "cell_type": "markdown",
   "metadata": {},
   "source": [
    "## A different system\n",
    "Your textbook describes a 4-stage model for the life cycle of female loggerhead sea turtles (p. 50-52).\n",
    "\n",
    "In this model, the life cycle is broken into four stages: Eggs & hatchlings, Juveniles, Novice breeders, and Mature breeders.  For each stage, the average age range for that stage, average annual rate of survival, and average number of eggs laid per year is established by observation.  The data are summarized in the table.\n",
    "\n",
    "$$\\begin{array}{clccc}\n",
    "\\hline\n",
    "\\text{stage number}& \\text{stage name} & \\text{ages for stage} & \\text{annual survival rate} & \\text{eggs laid annually}\\\\\n",
    "\\hline\n",
    "1 & \\text{Eggs & hatchlings} & 0-1 & 0.67 & 0\\\\\n",
    "2 & \\text{Juveniles} & 1-21 & 0.74 & 0\\\\\n",
    "3 & \\text{Novice breeders} & 22 & 0.81 & 127\\\\\n",
    "4 & \\text{Mature breeders} & 23-54 & 0.81 & 79\n",
    "\\end{array}$$\n",
    "\n",
    "If $d_i$ is the duration of stage $i$, and $s_i$ is the survivorship rate for stage $i$, we can show that the proportion still in stage $i$ after one year is \n",
    "\n",
    "$$p_i = \\left(\\frac{1-s_i^{d_i-1}}{1-s_i^{d_i}}\\right)s_i$$\n",
    "\n",
    "and the proportion that move to stage $i+1$ after one year is \n",
    "\n",
    "$$q_i = \\frac{s_i^{d_i}(1-s_i)}{1-s^{d_i}}$$\n",
    "\n",
    "Let $e_i$ be the number of eggs laid by a member of stage $i$.  Finally, let $x_i$ be the number of turtles currently in stage $i$.  Then the current state of the population can be summarized in a vector \n",
    "\n",
    "$$x = \\begin{pmatrix}x_1\\\\x_2\\\\x_3\\\\x_4\\end{pmatrix}$$\n",
    "\n",
    "### Exercises\n",
    "1. Come up with a transition matrix $L$ in terms of the quantities $p_i$, $q_i$ and $e_i$ that decribes how the system evolves in time.  That is, $Lx$ should be the vector describing the state of the population one year from now, if the current state is $x$.  ($L$ is called the Leslie matrix.)\n",
    "2. Use the formulae above to make the Leslie matrix for the system with the data given in the table.\n",
    "3. If the current population is described by the vector $$x = \\begin{pmatrix}200,000\\\\300,000\\\\500\\\\1,500\\end{pmatrix}$$\n",
    "\n",
    "what will it be in 10 years?  50 years?  100 years?  should we be concerned for the turtles?"
   ]
  },
  {
   "cell_type": "code",
   "execution_count": null,
   "metadata": {},
   "outputs": [],
   "source": []
  },
  {
   "cell_type": "code",
   "execution_count": null,
   "metadata": {},
   "outputs": [],
   "source": []
  },
  {
   "cell_type": "code",
   "execution_count": null,
   "metadata": {},
   "outputs": [],
   "source": []
  },
  {
   "cell_type": "code",
   "execution_count": null,
   "metadata": {},
   "outputs": [],
   "source": []
  }
 ],
 "metadata": {
  "kernelspec": {
   "display_name": "SageMath 8.1",
   "language": "",
   "name": "sagemath"
  },
  "language_info": {
   "codemirror_mode": {
    "name": "ipython",
    "version": 2
   },
   "file_extension": ".py",
   "mimetype": "text/x-python",
   "name": "python",
   "nbconvert_exporter": "python",
   "pygments_lexer": "ipython2",
   "version": "2.7.17"
  }
 },
 "nbformat": 4,
 "nbformat_minor": 2
}
